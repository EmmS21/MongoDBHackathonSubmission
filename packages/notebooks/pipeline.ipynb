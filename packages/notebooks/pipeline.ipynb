{
 "cells": [
  {
   "cell_type": "code",
   "execution_count": 2,
   "id": "9649eb30-1303-4e4c-bddd-b2832d20be1c",
   "metadata": {},
   "outputs": [
    {
     "name": "stdout",
     "output_type": "stream",
     "text": [
      "Collecting mixpeek\n",
      "  Downloading mixpeek-0.6.8-py3-none-any.whl.metadata (4.0 kB)\n",
      "Requirement already satisfied: httpx>=0.21.2 in /usr/local/lib/python3.11/site-packages (from mixpeek) (0.27.0)\n",
      "Collecting pydantic>=1.9.2 (from mixpeek)\n",
      "  Downloading pydantic-2.6.4-py3-none-any.whl.metadata (85 kB)\n",
      "\u001b[2K     \u001b[90m━━━━━━━━━━━━━━━━━━━━━━━━━━━━━━━━━━━━━━━━\u001b[0m \u001b[32m85.1/85.1 kB\u001b[0m \u001b[31m2.5 MB/s\u001b[0m eta \u001b[36m0:00:00\u001b[0m\n",
      "\u001b[?25hCollecting typing_extensions>=4.0.0 (from mixpeek)\n",
      "  Downloading typing_extensions-4.11.0-py3-none-any.whl.metadata (3.0 kB)\n",
      "Requirement already satisfied: anyio in /usr/local/lib/python3.11/site-packages (from httpx>=0.21.2->mixpeek) (4.3.0)\n",
      "Requirement already satisfied: certifi in /usr/local/lib/python3.11/site-packages (from httpx>=0.21.2->mixpeek) (2024.2.2)\n",
      "Requirement already satisfied: httpcore==1.* in /usr/local/lib/python3.11/site-packages (from httpx>=0.21.2->mixpeek) (1.0.4)\n",
      "Requirement already satisfied: idna in /usr/local/lib/python3.11/site-packages (from httpx>=0.21.2->mixpeek) (3.6)\n",
      "Requirement already satisfied: sniffio in /usr/local/lib/python3.11/site-packages (from httpx>=0.21.2->mixpeek) (1.3.1)\n",
      "Requirement already satisfied: h11<0.15,>=0.13 in /usr/local/lib/python3.11/site-packages (from httpcore==1.*->httpx>=0.21.2->mixpeek) (0.14.0)\n",
      "Collecting annotated-types>=0.4.0 (from pydantic>=1.9.2->mixpeek)\n",
      "  Downloading annotated_types-0.6.0-py3-none-any.whl.metadata (12 kB)\n",
      "Collecting pydantic-core==2.16.3 (from pydantic>=1.9.2->mixpeek)\n",
      "  Downloading pydantic_core-2.16.3-cp311-cp311-manylinux_2_17_x86_64.manylinux2014_x86_64.whl.metadata (6.5 kB)\n",
      "Downloading mixpeek-0.6.8-py3-none-any.whl (51 kB)\n",
      "\u001b[2K   \u001b[90m━━━━━━━━━━━━━━━━━━━━━━━━━━━━━━━━━━━━━━━━\u001b[0m \u001b[32m51.2/51.2 kB\u001b[0m \u001b[31m533.5 kB/s\u001b[0m eta \u001b[36m0:00:00\u001b[0m0:01\u001b[0m\n",
      "\u001b[?25hDownloading pydantic-2.6.4-py3-none-any.whl (394 kB)\n",
      "\u001b[2K   \u001b[90m━━━━━━━━━━━━━━━━━━━━━━━━━━━━━━━━━━━━━━━━\u001b[0m \u001b[32m394.9/394.9 kB\u001b[0m \u001b[31m8.5 MB/s\u001b[0m eta \u001b[36m0:00:00\u001b[0mta \u001b[36m0:00:01\u001b[0m\n",
      "\u001b[?25hDownloading pydantic_core-2.16.3-cp311-cp311-manylinux_2_17_x86_64.manylinux2014_x86_64.whl (2.2 MB)\n",
      "\u001b[2K   \u001b[90m━━━━━━━━━━━━━━━━━━━━━━━━━━━━━━━━━━━━━━━━\u001b[0m \u001b[32m2.2/2.2 MB\u001b[0m \u001b[31m9.0 MB/s\u001b[0m eta \u001b[36m0:00:00\u001b[0m:00:01\u001b[0m00:01\u001b[0m\n",
      "\u001b[?25hDownloading typing_extensions-4.11.0-py3-none-any.whl (34 kB)\n",
      "Downloading annotated_types-0.6.0-py3-none-any.whl (12 kB)\n",
      "Installing collected packages: typing_extensions, annotated-types, pydantic-core, pydantic, mixpeek\n",
      "Successfully installed annotated-types-0.6.0 mixpeek-0.6.8 pydantic-2.6.4 pydantic-core-2.16.3 typing_extensions-4.11.0\n",
      "\u001b[33mWARNING: Running pip as the 'root' user can result in broken permissions and conflicting behaviour with the system package manager. It is recommended to use a virtual environment instead: https://pip.pypa.io/warnings/venv\u001b[0m\u001b[33m\n",
      "\u001b[0m"
     ]
    }
   ],
   "source": [
    "!pip install mixpeek"
   ]
  },
  {
   "cell_type": "code",
   "execution_count": 69,
   "id": "bfdb4c13-5854-45e5-895e-f033b0b80b9a",
   "metadata": {},
   "outputs": [],
   "source": [
    "# import our libraries and init our client\n",
    "import pprint\n",
    "from mixpeek.client import Mixpeek\n",
    "\n",
    "mixpeek = Mixpeek(api_key=\"sk-A2OUOS-9wMA7rKJGJKz9S5eZ6j3EdBbXcm4yOqDrf-FAxXO8lYmKTmVLydnwKVWiL-E\")\n"
   ]
  },
  {
   "cell_type": "markdown",
   "id": "af301c78-31b9-444c-a5a0-125f2ed491c1",
   "metadata": {},
   "source": [
    "## Build your pipeline!\n",
    "\n",
    "First we'll need to establish our connection\n",
    "\n",
    "\n",
    "<div class=\"alert alert-block alert-success\">\n",
    "<b>Review the docs:</b> <a href=\"https://docs.mixpeek.com/\">https://docs.mixpeek.com/</a>\n",
    "</br>Make sure you setup your MongoDB trigger: <a href=\"https://docs.mixpeek.com/integrations/mongodb\">https://docs.mixpeek.com/integrations/mongodb</a>\n",
    "</div>"
   ]
  },
  {
   "cell_type": "code",
   "execution_count": 81,
   "id": "e071bd67-ca41-4017-9777-ef1c5a9e36ad",
   "metadata": {},
   "outputs": [
    {
     "data": {
      "text/plain": [
       "User(user_id='aaaf29590a', email='emmanuelsibanda21@gmail.com', api_keys=[ApiKey(key='sk-A2OUOS-9wMA7rKJGJKz9S5eZ6j3EdBbXcm4yOqDrf-FAxXO8lYmKTmVLydnwKVWiL-E', name='default', created_at=datetime.datetime(2024, 4, 6, 21, 30, 28, 301000))], index_ids=['ix-nemCkVJobINhXfcXs_Tu3ixf4Hh-Pla-hgf3mrLzsqh-uGsYdsw0_6hElw9xuLk8jxk'], metadata={'user_id': '3ae9120f-9ff7-47ae-a911-3181170d5c95', 'email': 'emmanuelsibanda21@gmail.com', 'email_confirmed': True, 'has_password': False, 'first_name': 'Emmanuel', 'last_name': 'S', 'picture_url': 'https://lh3.googleusercontent.com/a/ACg8ocJiNZzsV11w7nDUXAqL2hBRYuIFgqwE6mBUFFk5zOAh1gwps47y=s96-c', 'properties': {}, 'metadata': None, 'locked': False, 'enabled': True, 'mfa_enabled': False, 'can_create_orgs': False, 'created_at': 1712431244, 'last_active_at': 1712439027, 'org_id_to_org_info': {}, 'update_password_required': False}, connections=[Connection(engine='mongodb', host='cluster0.8zhmall.mongodb.net', port=5432, database='Hackathon', username='MongoDB', password='gAAAAABmEdruYMRrbjsyf8lwg0eJQDZ_aV9znAbyKWMmdOz-pyV-kXbs7zyBr8nslDhDDLUfJYsKlyC-UBegVf-koToyF8LupA==', extra_params=None)])"
      ]
     },
     "execution_count": 81,
     "metadata": {},
     "output_type": "execute_result"
    }
   ],
   "source": [
    "mixpeek.user.update(\n",
    "    connections=[\n",
    "        {\n",
    "            \"engine\": \"mongodb\",\n",
    "            \"host\": \"cluster0.8zhmall.mongodb.net\",\n",
    "            \"port\": 5432,\n",
    "            \"database\": \"Hackathon\",\n",
    "            \"username\": \"MongoDB\",\n",
    "            \"password\": \"MongoDB\",\n",
    "        }\n",
    "    ]\n",
    ")"
   ]
  },
  {
   "cell_type": "code",
   "execution_count": 82,
   "id": "d3a96708-5ab1-43e3-aa8d-01da2c0abe90",
   "metadata": {},
   "outputs": [
    {
     "name": "stdout",
     "output_type": "stream",
     "text": [
      "8d3dad\n"
     ]
    }
   ],
   "source": [
    "pipeline = mixpeek.pipeline.create(\n",
    "    source_destination_mappings=[\n",
    "        {\n",
    "            \"embedding_model\": \"google-bert/bert-base-multilingual-uncased\",\n",
    "            \"source\": {\"field\": \"br_data\", \"type\": \"contents\", \"settings\": {}},\n",
    "            \"destination\": {\n",
    "                \"collection\": \"Test\",\n",
    "                \"field\": \"text\",\n",
    "                \"embedding\": \"vector_path\",\n",
    "            },\n",
    "        }\n",
    "    ]\n",
    ")\n",
    "\n",
    "pipeline_id = pipeline.pipeline_id\n",
    "\n",
    "print(pipeline_id)"
   ]
  },
  {
   "cell_type": "code",
   "execution_count": 83,
   "id": "d5f523f4-342a-4009-af34-b8eef46ee90f",
   "metadata": {},
   "outputs": [
    {
     "name": "stdout",
     "output_type": "stream",
     "text": [
      "**** task_id='754a0107-8cfb-4687-870f-a49ca1faff24'\n"
     ]
    }
   ],
   "source": [
    "response = mixpeek.pipeline.invoke(\n",
    "    pipeline_id=pipeline.pipeline_id,\n",
    "    request_options={\"resume_url\": \"https://nux-sandbox.s3.us-east-2.amazonaws.com/marketing/ethan-resume.pdf\"}\n",
    ")\n",
    "\n",
    "print('****',response)"
   ]
  },
  {
   "cell_type": "code",
   "execution_count": 73,
   "id": "06a86484-4ac1-49d6-8830-819f457429e2",
   "metadata": {},
   "outputs": [
    {
     "name": "stdout",
     "output_type": "stream",
     "text": [
      "task_id='45291fa9-0493-4485-a7f8-7d47c9110eba'\n"
     ]
    }
   ],
   "source": [
    "print(response)"
   ]
  },
  {
   "cell_type": "code",
   "execution_count": 74,
   "id": "af65ad01-9447-4dba-88eb-8c2b76be9534",
   "metadata": {},
   "outputs": [
    {
     "ename": "JSONDecodeError",
     "evalue": "Expecting value: line 1 column 1 (char 0)",
     "output_type": "error",
     "traceback": [
      "\u001b[0;31m---------------------------------------------------------------------------\u001b[0m",
      "\u001b[0;31mJSONDecodeError\u001b[0m                           Traceback (most recent call last)",
      "Cell \u001b[0;32mIn[74], line 1\u001b[0m\n\u001b[0;32m----> 1\u001b[0m status \u001b[38;5;241m=\u001b[39m \u001b[43mmixpeek\u001b[49m\u001b[38;5;241;43m.\u001b[39;49m\u001b[43mpipeline\u001b[49m\u001b[38;5;241;43m.\u001b[39;49m\u001b[43mstatus\u001b[49m\u001b[43m(\u001b[49m\n\u001b[1;32m      2\u001b[0m \u001b[43m    \u001b[49m\u001b[43mtask_id\u001b[49m\u001b[43m \u001b[49m\u001b[38;5;241;43m=\u001b[39;49m\u001b[38;5;124;43m'\u001b[39;49m\u001b[38;5;124;43m45291fa9-0493-4485-a7f8-7d47c9110eba\u001b[39;49m\u001b[38;5;124;43m'\u001b[39;49m\n\u001b[1;32m      3\u001b[0m \u001b[43m)\u001b[49m\n\u001b[1;32m      5\u001b[0m \u001b[38;5;28mprint\u001b[39m(status)\n",
      "File \u001b[0;32m/usr/local/lib/python3.11/site-packages/mixpeek/pipeline/client.py:249\u001b[0m, in \u001b[0;36mPipelineClient.status\u001b[0;34m(self, task_id, request_options)\u001b[0m\n\u001b[1;32m    245\u001b[0m     \u001b[38;5;28;01mraise\u001b[39;00m UnprocessableEntityError(\n\u001b[1;32m    246\u001b[0m         pydantic_v1\u001b[38;5;241m.\u001b[39mparse_obj_as(HttpValidationError, _response\u001b[38;5;241m.\u001b[39mjson())  \u001b[38;5;66;03m# type: ignore\u001b[39;00m\n\u001b[1;32m    247\u001b[0m     )\n\u001b[1;32m    248\u001b[0m \u001b[38;5;28;01mif\u001b[39;00m _response\u001b[38;5;241m.\u001b[39mstatus_code \u001b[38;5;241m==\u001b[39m \u001b[38;5;241m500\u001b[39m:\n\u001b[0;32m--> 249\u001b[0m     \u001b[38;5;28;01mraise\u001b[39;00m InternalServerError(pydantic_v1\u001b[38;5;241m.\u001b[39mparse_obj_as(ErrorResponse, \u001b[43m_response\u001b[49m\u001b[38;5;241;43m.\u001b[39;49m\u001b[43mjson\u001b[49m\u001b[43m(\u001b[49m\u001b[43m)\u001b[49m))  \u001b[38;5;66;03m# type: ignore\u001b[39;00m\n\u001b[1;32m    250\u001b[0m \u001b[38;5;28;01mtry\u001b[39;00m:\n\u001b[1;32m    251\u001b[0m     _response_json \u001b[38;5;241m=\u001b[39m _response\u001b[38;5;241m.\u001b[39mjson()\n",
      "File \u001b[0;32m/usr/local/lib/python3.11/site-packages/httpx/_models.py:764\u001b[0m, in \u001b[0;36mResponse.json\u001b[0;34m(self, **kwargs)\u001b[0m\n\u001b[1;32m    763\u001b[0m \u001b[38;5;28;01mdef\u001b[39;00m \u001b[38;5;21mjson\u001b[39m(\u001b[38;5;28mself\u001b[39m, \u001b[38;5;241m*\u001b[39m\u001b[38;5;241m*\u001b[39mkwargs: typing\u001b[38;5;241m.\u001b[39mAny) \u001b[38;5;241m-\u001b[39m\u001b[38;5;241m>\u001b[39m typing\u001b[38;5;241m.\u001b[39mAny:\n\u001b[0;32m--> 764\u001b[0m     \u001b[38;5;28;01mreturn\u001b[39;00m \u001b[43mjsonlib\u001b[49m\u001b[38;5;241;43m.\u001b[39;49m\u001b[43mloads\u001b[49m\u001b[43m(\u001b[49m\u001b[38;5;28;43mself\u001b[39;49m\u001b[38;5;241;43m.\u001b[39;49m\u001b[43mcontent\u001b[49m\u001b[43m,\u001b[49m\u001b[43m \u001b[49m\u001b[38;5;241;43m*\u001b[39;49m\u001b[38;5;241;43m*\u001b[39;49m\u001b[43mkwargs\u001b[49m\u001b[43m)\u001b[49m\n",
      "File \u001b[0;32m/usr/local/lib/python3.11/json/__init__.py:346\u001b[0m, in \u001b[0;36mloads\u001b[0;34m(s, cls, object_hook, parse_float, parse_int, parse_constant, object_pairs_hook, **kw)\u001b[0m\n\u001b[1;32m    341\u001b[0m     s \u001b[38;5;241m=\u001b[39m s\u001b[38;5;241m.\u001b[39mdecode(detect_encoding(s), \u001b[38;5;124m'\u001b[39m\u001b[38;5;124msurrogatepass\u001b[39m\u001b[38;5;124m'\u001b[39m)\n\u001b[1;32m    343\u001b[0m \u001b[38;5;28;01mif\u001b[39;00m (\u001b[38;5;28mcls\u001b[39m \u001b[38;5;129;01mis\u001b[39;00m \u001b[38;5;28;01mNone\u001b[39;00m \u001b[38;5;129;01mand\u001b[39;00m object_hook \u001b[38;5;129;01mis\u001b[39;00m \u001b[38;5;28;01mNone\u001b[39;00m \u001b[38;5;129;01mand\u001b[39;00m\n\u001b[1;32m    344\u001b[0m         parse_int \u001b[38;5;129;01mis\u001b[39;00m \u001b[38;5;28;01mNone\u001b[39;00m \u001b[38;5;129;01mand\u001b[39;00m parse_float \u001b[38;5;129;01mis\u001b[39;00m \u001b[38;5;28;01mNone\u001b[39;00m \u001b[38;5;129;01mand\u001b[39;00m\n\u001b[1;32m    345\u001b[0m         parse_constant \u001b[38;5;129;01mis\u001b[39;00m \u001b[38;5;28;01mNone\u001b[39;00m \u001b[38;5;129;01mand\u001b[39;00m object_pairs_hook \u001b[38;5;129;01mis\u001b[39;00m \u001b[38;5;28;01mNone\u001b[39;00m \u001b[38;5;129;01mand\u001b[39;00m \u001b[38;5;129;01mnot\u001b[39;00m kw):\n\u001b[0;32m--> 346\u001b[0m     \u001b[38;5;28;01mreturn\u001b[39;00m \u001b[43m_default_decoder\u001b[49m\u001b[38;5;241;43m.\u001b[39;49m\u001b[43mdecode\u001b[49m\u001b[43m(\u001b[49m\u001b[43ms\u001b[49m\u001b[43m)\u001b[49m\n\u001b[1;32m    347\u001b[0m \u001b[38;5;28;01mif\u001b[39;00m \u001b[38;5;28mcls\u001b[39m \u001b[38;5;129;01mis\u001b[39;00m \u001b[38;5;28;01mNone\u001b[39;00m:\n\u001b[1;32m    348\u001b[0m     \u001b[38;5;28mcls\u001b[39m \u001b[38;5;241m=\u001b[39m JSONDecoder\n",
      "File \u001b[0;32m/usr/local/lib/python3.11/json/decoder.py:337\u001b[0m, in \u001b[0;36mJSONDecoder.decode\u001b[0;34m(self, s, _w)\u001b[0m\n\u001b[1;32m    332\u001b[0m \u001b[38;5;28;01mdef\u001b[39;00m \u001b[38;5;21mdecode\u001b[39m(\u001b[38;5;28mself\u001b[39m, s, _w\u001b[38;5;241m=\u001b[39mWHITESPACE\u001b[38;5;241m.\u001b[39mmatch):\n\u001b[1;32m    333\u001b[0m \u001b[38;5;250m    \u001b[39m\u001b[38;5;124;03m\"\"\"Return the Python representation of ``s`` (a ``str`` instance\u001b[39;00m\n\u001b[1;32m    334\u001b[0m \u001b[38;5;124;03m    containing a JSON document).\u001b[39;00m\n\u001b[1;32m    335\u001b[0m \n\u001b[1;32m    336\u001b[0m \u001b[38;5;124;03m    \"\"\"\u001b[39;00m\n\u001b[0;32m--> 337\u001b[0m     obj, end \u001b[38;5;241m=\u001b[39m \u001b[38;5;28;43mself\u001b[39;49m\u001b[38;5;241;43m.\u001b[39;49m\u001b[43mraw_decode\u001b[49m\u001b[43m(\u001b[49m\u001b[43ms\u001b[49m\u001b[43m,\u001b[49m\u001b[43m \u001b[49m\u001b[43midx\u001b[49m\u001b[38;5;241;43m=\u001b[39;49m\u001b[43m_w\u001b[49m\u001b[43m(\u001b[49m\u001b[43ms\u001b[49m\u001b[43m,\u001b[49m\u001b[43m \u001b[49m\u001b[38;5;241;43m0\u001b[39;49m\u001b[43m)\u001b[49m\u001b[38;5;241;43m.\u001b[39;49m\u001b[43mend\u001b[49m\u001b[43m(\u001b[49m\u001b[43m)\u001b[49m\u001b[43m)\u001b[49m\n\u001b[1;32m    338\u001b[0m     end \u001b[38;5;241m=\u001b[39m _w(s, end)\u001b[38;5;241m.\u001b[39mend()\n\u001b[1;32m    339\u001b[0m     \u001b[38;5;28;01mif\u001b[39;00m end \u001b[38;5;241m!=\u001b[39m \u001b[38;5;28mlen\u001b[39m(s):\n",
      "File \u001b[0;32m/usr/local/lib/python3.11/json/decoder.py:355\u001b[0m, in \u001b[0;36mJSONDecoder.raw_decode\u001b[0;34m(self, s, idx)\u001b[0m\n\u001b[1;32m    353\u001b[0m     obj, end \u001b[38;5;241m=\u001b[39m \u001b[38;5;28mself\u001b[39m\u001b[38;5;241m.\u001b[39mscan_once(s, idx)\n\u001b[1;32m    354\u001b[0m \u001b[38;5;28;01mexcept\u001b[39;00m \u001b[38;5;167;01mStopIteration\u001b[39;00m \u001b[38;5;28;01mas\u001b[39;00m err:\n\u001b[0;32m--> 355\u001b[0m     \u001b[38;5;28;01mraise\u001b[39;00m JSONDecodeError(\u001b[38;5;124m\"\u001b[39m\u001b[38;5;124mExpecting value\u001b[39m\u001b[38;5;124m\"\u001b[39m, s, err\u001b[38;5;241m.\u001b[39mvalue) \u001b[38;5;28;01mfrom\u001b[39;00m \u001b[38;5;28;01mNone\u001b[39;00m\n\u001b[1;32m    356\u001b[0m \u001b[38;5;28;01mreturn\u001b[39;00m obj, end\n",
      "\u001b[0;31mJSONDecodeError\u001b[0m: Expecting value: line 1 column 1 (char 0)"
     ]
    }
   ],
   "source": [
    "status = mixpeek.pipeline.status(\n",
    "    task_id ='45291fa9-0493-4485-a7f8-7d47c9110eba'\n",
    ")\n",
    "\n",
    "print(status)"
   ]
  },
  {
   "cell_type": "code",
   "execution_count": null,
   "id": "f6d6661d-28b5-4924-98ee-7002da3fc633",
   "metadata": {},
   "outputs": [],
   "source": []
  }
 ],
 "metadata": {
  "kernelspec": {
   "display_name": "Python 3 (ipykernel)",
   "language": "python",
   "name": "python3"
  },
  "language_info": {
   "codemirror_mode": {
    "name": "ipython",
    "version": 3
   },
   "file_extension": ".py",
   "mimetype": "text/x-python",
   "name": "python",
   "nbconvert_exporter": "python",
   "pygments_lexer": "ipython3",
   "version": "3.11.8"
  }
 },
 "nbformat": 4,
 "nbformat_minor": 5
}
